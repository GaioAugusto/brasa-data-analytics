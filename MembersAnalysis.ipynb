{
  "nbformat": 4,
  "nbformat_minor": 0,
  "metadata": {
    "colab": {
      "provenance": [],
      "authorship_tag": "ABX9TyPYsDUjn5rpv/4BdDZv34Wz"
    },
    "kernelspec": {
      "name": "python3",
      "display_name": "Python 3"
    },
    "language_info": {
      "name": "python"
    }
  },
  "cells": [
    {
      "cell_type": "code",
      "execution_count": 5,
      "metadata": {
        "colab": {
          "base_uri": "https://localhost:8080/"
        },
        "id": "TKKXZAbXE4QM",
        "outputId": "9fd2f243-2fe3-4c69-e7bc-1f087fdcef06"
      },
      "outputs": [
        {
          "output_type": "stream",
          "name": "stdout",
          "text": [
            "Mounted at /content/drive\n"
          ]
        }
      ],
      "source": [
        "# import google drive\n",
        "from google.colab import drive\n",
        "drive.mount('/content/drive')"
      ]
    },
    {
      "cell_type": "code",
      "source": [
        "from google.colab import auth\n",
        "from googleapiclient.discovery import build\n",
        "\n",
        "# Authenticate\n",
        "auth.authenticate_user()\n",
        "\n",
        "# Create Drive API service\n",
        "drive_service = build('drive', 'v3')"
      ],
      "metadata": {
        "id": "q8sYfZrzLLD4"
      },
      "execution_count": 6,
      "outputs": []
    },
    {
      "cell_type": "code",
      "source": [
        "# List all shared folders\n",
        "results = drive_service.files().list(\n",
        "    q=\"mimeType='application/vnd.google-apps.folder' and sharedWithMe=true\",\n",
        "    fields=\"files(id, name)\").execute()\n",
        "\n",
        "# Print folder names and IDs\n",
        "for folder in results.get('files', []):\n",
        "    print(f\"Folder Name: {folder['name']}, Folder ID: {folder['id']}\")"
      ],
      "metadata": {
        "colab": {
          "base_uri": "https://localhost:8080/"
        },
        "id": "KMPzyVYrLTGV",
        "outputId": "6903cf6a-c000-4fc3-8985-ad860d88a56e"
      },
      "execution_count": 7,
      "outputs": [
        {
          "output_type": "stream",
          "name": "stdout",
          "text": [
            "Folder Name: BRASA-2024-25, Folder ID: 1fxDUtS3AwmSDNgyc2BpTE3CWtshQjsSK\n",
            "Folder Name: case studies (wooahh), Folder ID: 1DBni-CP87NIqscwfn_b7FmBfnprOmjJ_\n",
            "Folder Name: Y2S2 ECE, Folder ID: 1Ge6Ua1xQAXrI-N9HSj7k9Qj5lwY-fERp\n",
            "Folder Name: Formulários apartamento, Folder ID: 1ZVFlBthf11qZ760XKNzac9BWtgAZgBYy\n",
            "Folder Name: ECE231-Tutorial-Notes, Folder ID: 1jS73Tx6WPb6FEAWGoQD5FAWM4VP0bBJg\n",
            "Folder Name: First Year, Folder ID: 14paejQPp9wmwzW-UFxtoj9-HEUnRbAJ6\n",
            "Folder Name: 🎬 VÍDEOS E PALESTRAS, Folder ID: 1cX7UnZeHykgOTieWZDQ2cagc3Y6yKVd_\n",
            "Folder Name: 2019_1, Folder ID: 1JE4bmgF9YcMfEUxivvn0jKfe4vV1onFe\n",
            "Folder Name: LogicaParaComputacao_novo, Folder ID: 1UccpILTFLBZjeGzatpW41q2C0rbYQjiZ\n",
            "Folder Name: apstilas, Folder ID: 1CeE0k6sB-CDYqvivKqPb9Ithl7_-Z7kp\n",
            "Folder Name: Guias Europa 2021, Folder ID: 1cZXaBk2XauGh46t4AAeWAJ2n8nkrohut\n",
            "Folder Name: Apostilas Bernoulli (Matemática), Folder ID: 1LFloA8TanOlrruZ_5ZvKFXXMfZHRjT3R\n",
            "Folder Name: Second Year, Folder ID: 1ZNyPNW0mfsx7uOXT0T6AFUmUhCISy31K\n",
            "Folder Name: Mechanics (CIV100), Folder ID: 1G8Gpz-_qfPcAw_Z4NM10mbscnujHwFD0\n"
          ]
        }
      ]
    },
    {
      "cell_type": "code",
      "source": [
        "# Replace with your actual Folder ID from the previous step\n",
        "folder_id = \"1fxDUtS3AwmSDNgyc2BpTE3CWtshQjsSK\"\n",
        "\n",
        "# List all files in the folder\n",
        "results = drive_service.files().list(\n",
        "    q=f\"'{folder_id}' in parents\",\n",
        "    fields=\"files(id, name)\").execute()\n",
        "\n",
        "# Print file names and IDs\n",
        "for file in results.get('files', []):\n",
        "    print(f\"File Name: {file['name']}, File ID: {file['id']}\")\n",
        "\n"
      ],
      "metadata": {
        "colab": {
          "base_uri": "https://localhost:8080/"
        },
        "id": "Yl8LJvtAL0-P",
        "outputId": "b3fa9688-7099-4cfc-f43a-b9af1ae779d3"
      },
      "execution_count": 7,
      "outputs": [
        {
          "output_type": "stream",
          "name": "stdout",
          "text": [
            "File Name:  Brasa UTSC Elections - Fall 2024, File ID: 11e_uHiY1EsY7WU9RcvP_ImQ_d4XtcD1BdOPwm83WH0w\n",
            "File Name: Projects, File ID: 1k6ZIa0_sVMr0l13jNsfQHGLJcWBlGqbN\n",
            "File Name: Untitled document, File ID: 1hEMvGi6Jxb3UpCk8Kwio8eM_Dbm0gk6osvu8ZT_9Nds\n",
            "File Name: First Year Officer Stuff, File ID: 1fuglOWGze_wQfycvbwQ7TEUMPQLpfWf5\n",
            "File Name: Executives information, File ID: 1j2YuxxeIddZRHnXQgUHygQMzhbnIWCTF\n",
            "File Name: Events Planning, File ID: 1kzyrzCnumHBlFnTF8nWLYKLzPbS9knv2\n",
            "File Name: Meeting minutes, File ID: 1JtccR4jGQnoeQnIwEnmorx4nByFa2N4k\n",
            "File Name: Graphics and Logos, File ID: 1W1LeAPQO4TOWF8HhU7eJ1bClJlQmblJi\n"
          ]
        }
      ]
    },
    {
      "cell_type": "code",
      "source": [
        "# Replace with your actual Folder ID from the previous step\n",
        "folder_id = \"1k6ZIa0_sVMr0l13jNsfQHGLJcWBlGqbN\"\n",
        "\n",
        "# List all files in the folder\n",
        "results = drive_service.files().list(\n",
        "    q=f\"'{folder_id}' in parents\",\n",
        "    fields=\"files(id, name)\").execute()\n",
        "\n",
        "# Print file names and IDs\n",
        "for file in results.get('files', []):\n",
        "    print(f\"File Name: {file['name']}, File ID: {file['id']}\")"
      ],
      "metadata": {
        "colab": {
          "base_uri": "https://localhost:8080/"
        },
        "id": "DAdUTp1zMGxU",
        "outputId": "f9c9371f-151f-488b-d33e-2e219bad1df9"
      },
      "execution_count": 8,
      "outputs": [
        {
          "output_type": "stream",
          "name": "stdout",
          "text": [
            "File Name: Members' Form and Database, File ID: 1wQvn5G33Ho-S0_8qt0o1ci4miV-bNF0N\n"
          ]
        }
      ]
    },
    {
      "cell_type": "code",
      "source": [
        "# Replace with your actual Folder ID from the previous step\n",
        "folder_id = \"1wQvn5G33Ho-S0_8qt0o1ci4miV-bNF0N\"\n",
        "\n",
        "# List all files in the folder\n",
        "results = drive_service.files().list(\n",
        "    q=f\"'{folder_id}' in parents\",\n",
        "    fields=\"files(id, name)\").execute()\n",
        "\n",
        "# Print file names and IDs\n",
        "for file in results.get('files', []):\n",
        "    print(f\"File Name: {file['name']}, File ID: {file['id']}\")"
      ],
      "metadata": {
        "colab": {
          "base_uri": "https://localhost:8080/"
        },
        "id": "8u68OiSmMMf7",
        "outputId": "5a319a88-9fb8-4b85-dbfc-1a4fd7ae0ffb"
      },
      "execution_count": 8,
      "outputs": [
        {
          "output_type": "stream",
          "name": "stdout",
          "text": [
            "File Name: MembersAnalysis, File ID: 1mrjWoO_q4HjHMC2QpPh6ngm-rWNx1g6B\n",
            "File Name: List-of-Members, File ID: 1YUVTrYuBMg8pyzU0QK1jRdrBre5bLDCrR4AQRACtAOk\n",
            "File Name: Registration Form, File ID: 1WoC5o6gLydfp2MgAKIMicw2TofZaZe_jVzDPXBUvLr0\n"
          ]
        }
      ]
    },
    {
      "cell_type": "code",
      "source": [
        "file_id = \"1YUVTrYuBMg8pyzU0QK1jRdrBre5bLDCrR4AQRACtAOk\"  # Replace with actual File ID\n",
        "file_name = \"List-of-Members.xlsx\"\n",
        "\n",
        "import requests\n",
        "\n",
        "# Download the file\n",
        "download_url = f\"https://drive.google.com/uc?id={file_id}\"\n",
        "response = requests.get(download_url)\n",
        "\n",
        "# Save to Colab\n",
        "with open(file_name, \"wb\") as f:\n",
        "    f.write(response.content)"
      ],
      "metadata": {
        "id": "pPTidojKMXEO"
      },
      "execution_count": 9,
      "outputs": []
    },
    {
      "cell_type": "code",
      "source": [
        "import io\n",
        "from googleapiclient.http import MediaIoBaseDownload\n",
        "\n",
        "# Correct way to download files from Google Drive\n",
        "request = drive_service.files().export_media(fileId=file_id, mimeType='application/vnd.openxmlformats-officedocument.spreadsheetml.sheet')\n",
        "file = io.BytesIO()\n",
        "downloader = MediaIoBaseDownload(file, request)\n",
        "\n",
        "done = False\n",
        "while not done:\n",
        "    status, done = downloader.next_chunk()\n",
        "\n",
        "# Save it correctly\n",
        "with open(file_name, \"wb\") as f:\n",
        "    f.write(file.getbuffer())\n",
        "\n",
        "print(f\"Downloaded {file_name} successfully!\")"
      ],
      "metadata": {
        "colab": {
          "base_uri": "https://localhost:8080/"
        },
        "id": "GximrYV0OFT9",
        "outputId": "7a5b1b24-d7ec-4c63-d306-08005dcc2373"
      },
      "execution_count": 10,
      "outputs": [
        {
          "output_type": "stream",
          "name": "stdout",
          "text": [
            "Downloaded List-of-Members.xlsx successfully!\n"
          ]
        }
      ]
    },
    {
      "cell_type": "code",
      "source": [
        "import pandas as pd\n",
        "\n",
        "data = pd.read_excel(\"List-of-Members.xlsx\", engine=\"openpyxl\")\n",
        "data.to_csv(\"List-of-Members.csv\", index=False)\n",
        "\n",
        "# Display first few rows\n",
        "data.head()"
      ],
      "metadata": {
        "colab": {
          "base_uri": "https://localhost:8080/",
          "height": 310
        },
        "collapsed": true,
        "id": "v_NfVjKwIlSV",
        "outputId": "d0d67cd2-dca4-4212-ab7e-ab20bf58311c"
      },
      "execution_count": 11,
      "outputs": [
        {
          "output_type": "execute_result",
          "data": {
            "text/plain": [
              "                Timestamp                       Full name  Student Number  \\\n",
              "0 2025-01-29 00:26:24.370                     Gaio Santos      1008948123   \n",
              "1 2025-01-28 20:42:02.825   Laura Vasco de Paula Ferreira      1008965274   \n",
              "2 2025-01-28 20:42:06.295             Luisa Naomi Gerhard      1008953223   \n",
              "3 2025-01-28 20:42:13.612  Maria Eduarda Fonseca Carvalho      1008969939   \n",
              "4 2025-01-30 10:41:57.132      Arthur Marins de Oliveira       1011007553   \n",
              "\n",
              "  Undergrad or grad student?          Faculty Year of study Campus  \\\n",
              "0                  Undergrad      Engineering      3rd year   UTSG   \n",
              "1                  Undergrad  Arts & Sciences      3rd year   UTSG   \n",
              "2                  Undergrad  Arts & Sciences      3rd year   UTSG   \n",
              "3                  Undergrad  Arts & Sciences      3rd year   UTSG   \n",
              "4                  Undergrad  Arts & Sciences      1st year   UTSG   \n",
              "\n",
              "                                 UofT email  \n",
              "0              gaio.santos@mail.utoronto.ca  \n",
              "1           laura.ferreira@mail.utoronto.ca  \n",
              "2            luisa.gerhard@mail.utoronto.ca  \n",
              "3             duda.fonseca@mail.utoronto.ca  \n",
              "4  arthur.marinsdeoliveira@mail.utoronto.ca  "
            ],
            "text/html": [
              "\n",
              "  <div id=\"df-e87a6bf8-7bc2-4e3c-93d6-723e4ffc10ef\" class=\"colab-df-container\">\n",
              "    <div>\n",
              "<style scoped>\n",
              "    .dataframe tbody tr th:only-of-type {\n",
              "        vertical-align: middle;\n",
              "    }\n",
              "\n",
              "    .dataframe tbody tr th {\n",
              "        vertical-align: top;\n",
              "    }\n",
              "\n",
              "    .dataframe thead th {\n",
              "        text-align: right;\n",
              "    }\n",
              "</style>\n",
              "<table border=\"1\" class=\"dataframe\">\n",
              "  <thead>\n",
              "    <tr style=\"text-align: right;\">\n",
              "      <th></th>\n",
              "      <th>Timestamp</th>\n",
              "      <th>Full name</th>\n",
              "      <th>Student Number</th>\n",
              "      <th>Undergrad or grad student?</th>\n",
              "      <th>Faculty</th>\n",
              "      <th>Year of study</th>\n",
              "      <th>Campus</th>\n",
              "      <th>UofT email</th>\n",
              "    </tr>\n",
              "  </thead>\n",
              "  <tbody>\n",
              "    <tr>\n",
              "      <th>0</th>\n",
              "      <td>2025-01-29 00:26:24.370</td>\n",
              "      <td>Gaio Santos</td>\n",
              "      <td>1008948123</td>\n",
              "      <td>Undergrad</td>\n",
              "      <td>Engineering</td>\n",
              "      <td>3rd year</td>\n",
              "      <td>UTSG</td>\n",
              "      <td>gaio.santos@mail.utoronto.ca</td>\n",
              "    </tr>\n",
              "    <tr>\n",
              "      <th>1</th>\n",
              "      <td>2025-01-28 20:42:02.825</td>\n",
              "      <td>Laura Vasco de Paula Ferreira</td>\n",
              "      <td>1008965274</td>\n",
              "      <td>Undergrad</td>\n",
              "      <td>Arts &amp; Sciences</td>\n",
              "      <td>3rd year</td>\n",
              "      <td>UTSG</td>\n",
              "      <td>laura.ferreira@mail.utoronto.ca</td>\n",
              "    </tr>\n",
              "    <tr>\n",
              "      <th>2</th>\n",
              "      <td>2025-01-28 20:42:06.295</td>\n",
              "      <td>Luisa Naomi Gerhard</td>\n",
              "      <td>1008953223</td>\n",
              "      <td>Undergrad</td>\n",
              "      <td>Arts &amp; Sciences</td>\n",
              "      <td>3rd year</td>\n",
              "      <td>UTSG</td>\n",
              "      <td>luisa.gerhard@mail.utoronto.ca</td>\n",
              "    </tr>\n",
              "    <tr>\n",
              "      <th>3</th>\n",
              "      <td>2025-01-28 20:42:13.612</td>\n",
              "      <td>Maria Eduarda Fonseca Carvalho</td>\n",
              "      <td>1008969939</td>\n",
              "      <td>Undergrad</td>\n",
              "      <td>Arts &amp; Sciences</td>\n",
              "      <td>3rd year</td>\n",
              "      <td>UTSG</td>\n",
              "      <td>duda.fonseca@mail.utoronto.ca</td>\n",
              "    </tr>\n",
              "    <tr>\n",
              "      <th>4</th>\n",
              "      <td>2025-01-30 10:41:57.132</td>\n",
              "      <td>Arthur Marins de Oliveira</td>\n",
              "      <td>1011007553</td>\n",
              "      <td>Undergrad</td>\n",
              "      <td>Arts &amp; Sciences</td>\n",
              "      <td>1st year</td>\n",
              "      <td>UTSG</td>\n",
              "      <td>arthur.marinsdeoliveira@mail.utoronto.ca</td>\n",
              "    </tr>\n",
              "  </tbody>\n",
              "</table>\n",
              "</div>\n",
              "    <div class=\"colab-df-buttons\">\n",
              "\n",
              "  <div class=\"colab-df-container\">\n",
              "    <button class=\"colab-df-convert\" onclick=\"convertToInteractive('df-e87a6bf8-7bc2-4e3c-93d6-723e4ffc10ef')\"\n",
              "            title=\"Convert this dataframe to an interactive table.\"\n",
              "            style=\"display:none;\">\n",
              "\n",
              "  <svg xmlns=\"http://www.w3.org/2000/svg\" height=\"24px\" viewBox=\"0 -960 960 960\">\n",
              "    <path d=\"M120-120v-720h720v720H120Zm60-500h600v-160H180v160Zm220 220h160v-160H400v160Zm0 220h160v-160H400v160ZM180-400h160v-160H180v160Zm440 0h160v-160H620v160ZM180-180h160v-160H180v160Zm440 0h160v-160H620v160Z\"/>\n",
              "  </svg>\n",
              "    </button>\n",
              "\n",
              "  <style>\n",
              "    .colab-df-container {\n",
              "      display:flex;\n",
              "      gap: 12px;\n",
              "    }\n",
              "\n",
              "    .colab-df-convert {\n",
              "      background-color: #E8F0FE;\n",
              "      border: none;\n",
              "      border-radius: 50%;\n",
              "      cursor: pointer;\n",
              "      display: none;\n",
              "      fill: #1967D2;\n",
              "      height: 32px;\n",
              "      padding: 0 0 0 0;\n",
              "      width: 32px;\n",
              "    }\n",
              "\n",
              "    .colab-df-convert:hover {\n",
              "      background-color: #E2EBFA;\n",
              "      box-shadow: 0px 1px 2px rgba(60, 64, 67, 0.3), 0px 1px 3px 1px rgba(60, 64, 67, 0.15);\n",
              "      fill: #174EA6;\n",
              "    }\n",
              "\n",
              "    .colab-df-buttons div {\n",
              "      margin-bottom: 4px;\n",
              "    }\n",
              "\n",
              "    [theme=dark] .colab-df-convert {\n",
              "      background-color: #3B4455;\n",
              "      fill: #D2E3FC;\n",
              "    }\n",
              "\n",
              "    [theme=dark] .colab-df-convert:hover {\n",
              "      background-color: #434B5C;\n",
              "      box-shadow: 0px 1px 3px 1px rgba(0, 0, 0, 0.15);\n",
              "      filter: drop-shadow(0px 1px 2px rgba(0, 0, 0, 0.3));\n",
              "      fill: #FFFFFF;\n",
              "    }\n",
              "  </style>\n",
              "\n",
              "    <script>\n",
              "      const buttonEl =\n",
              "        document.querySelector('#df-e87a6bf8-7bc2-4e3c-93d6-723e4ffc10ef button.colab-df-convert');\n",
              "      buttonEl.style.display =\n",
              "        google.colab.kernel.accessAllowed ? 'block' : 'none';\n",
              "\n",
              "      async function convertToInteractive(key) {\n",
              "        const element = document.querySelector('#df-e87a6bf8-7bc2-4e3c-93d6-723e4ffc10ef');\n",
              "        const dataTable =\n",
              "          await google.colab.kernel.invokeFunction('convertToInteractive',\n",
              "                                                    [key], {});\n",
              "        if (!dataTable) return;\n",
              "\n",
              "        const docLinkHtml = 'Like what you see? Visit the ' +\n",
              "          '<a target=\"_blank\" href=https://colab.research.google.com/notebooks/data_table.ipynb>data table notebook</a>'\n",
              "          + ' to learn more about interactive tables.';\n",
              "        element.innerHTML = '';\n",
              "        dataTable['output_type'] = 'display_data';\n",
              "        await google.colab.output.renderOutput(dataTable, element);\n",
              "        const docLink = document.createElement('div');\n",
              "        docLink.innerHTML = docLinkHtml;\n",
              "        element.appendChild(docLink);\n",
              "      }\n",
              "    </script>\n",
              "  </div>\n",
              "\n",
              "\n",
              "<div id=\"df-66c6a7cb-ff41-4a96-9c14-81fdb397e93f\">\n",
              "  <button class=\"colab-df-quickchart\" onclick=\"quickchart('df-66c6a7cb-ff41-4a96-9c14-81fdb397e93f')\"\n",
              "            title=\"Suggest charts\"\n",
              "            style=\"display:none;\">\n",
              "\n",
              "<svg xmlns=\"http://www.w3.org/2000/svg\" height=\"24px\"viewBox=\"0 0 24 24\"\n",
              "     width=\"24px\">\n",
              "    <g>\n",
              "        <path d=\"M19 3H5c-1.1 0-2 .9-2 2v14c0 1.1.9 2 2 2h14c1.1 0 2-.9 2-2V5c0-1.1-.9-2-2-2zM9 17H7v-7h2v7zm4 0h-2V7h2v10zm4 0h-2v-4h2v4z\"/>\n",
              "    </g>\n",
              "</svg>\n",
              "  </button>\n",
              "\n",
              "<style>\n",
              "  .colab-df-quickchart {\n",
              "      --bg-color: #E8F0FE;\n",
              "      --fill-color: #1967D2;\n",
              "      --hover-bg-color: #E2EBFA;\n",
              "      --hover-fill-color: #174EA6;\n",
              "      --disabled-fill-color: #AAA;\n",
              "      --disabled-bg-color: #DDD;\n",
              "  }\n",
              "\n",
              "  [theme=dark] .colab-df-quickchart {\n",
              "      --bg-color: #3B4455;\n",
              "      --fill-color: #D2E3FC;\n",
              "      --hover-bg-color: #434B5C;\n",
              "      --hover-fill-color: #FFFFFF;\n",
              "      --disabled-bg-color: #3B4455;\n",
              "      --disabled-fill-color: #666;\n",
              "  }\n",
              "\n",
              "  .colab-df-quickchart {\n",
              "    background-color: var(--bg-color);\n",
              "    border: none;\n",
              "    border-radius: 50%;\n",
              "    cursor: pointer;\n",
              "    display: none;\n",
              "    fill: var(--fill-color);\n",
              "    height: 32px;\n",
              "    padding: 0;\n",
              "    width: 32px;\n",
              "  }\n",
              "\n",
              "  .colab-df-quickchart:hover {\n",
              "    background-color: var(--hover-bg-color);\n",
              "    box-shadow: 0 1px 2px rgba(60, 64, 67, 0.3), 0 1px 3px 1px rgba(60, 64, 67, 0.15);\n",
              "    fill: var(--button-hover-fill-color);\n",
              "  }\n",
              "\n",
              "  .colab-df-quickchart-complete:disabled,\n",
              "  .colab-df-quickchart-complete:disabled:hover {\n",
              "    background-color: var(--disabled-bg-color);\n",
              "    fill: var(--disabled-fill-color);\n",
              "    box-shadow: none;\n",
              "  }\n",
              "\n",
              "  .colab-df-spinner {\n",
              "    border: 2px solid var(--fill-color);\n",
              "    border-color: transparent;\n",
              "    border-bottom-color: var(--fill-color);\n",
              "    animation:\n",
              "      spin 1s steps(1) infinite;\n",
              "  }\n",
              "\n",
              "  @keyframes spin {\n",
              "    0% {\n",
              "      border-color: transparent;\n",
              "      border-bottom-color: var(--fill-color);\n",
              "      border-left-color: var(--fill-color);\n",
              "    }\n",
              "    20% {\n",
              "      border-color: transparent;\n",
              "      border-left-color: var(--fill-color);\n",
              "      border-top-color: var(--fill-color);\n",
              "    }\n",
              "    30% {\n",
              "      border-color: transparent;\n",
              "      border-left-color: var(--fill-color);\n",
              "      border-top-color: var(--fill-color);\n",
              "      border-right-color: var(--fill-color);\n",
              "    }\n",
              "    40% {\n",
              "      border-color: transparent;\n",
              "      border-right-color: var(--fill-color);\n",
              "      border-top-color: var(--fill-color);\n",
              "    }\n",
              "    60% {\n",
              "      border-color: transparent;\n",
              "      border-right-color: var(--fill-color);\n",
              "    }\n",
              "    80% {\n",
              "      border-color: transparent;\n",
              "      border-right-color: var(--fill-color);\n",
              "      border-bottom-color: var(--fill-color);\n",
              "    }\n",
              "    90% {\n",
              "      border-color: transparent;\n",
              "      border-bottom-color: var(--fill-color);\n",
              "    }\n",
              "  }\n",
              "</style>\n",
              "\n",
              "  <script>\n",
              "    async function quickchart(key) {\n",
              "      const quickchartButtonEl =\n",
              "        document.querySelector('#' + key + ' button');\n",
              "      quickchartButtonEl.disabled = true;  // To prevent multiple clicks.\n",
              "      quickchartButtonEl.classList.add('colab-df-spinner');\n",
              "      try {\n",
              "        const charts = await google.colab.kernel.invokeFunction(\n",
              "            'suggestCharts', [key], {});\n",
              "      } catch (error) {\n",
              "        console.error('Error during call to suggestCharts:', error);\n",
              "      }\n",
              "      quickchartButtonEl.classList.remove('colab-df-spinner');\n",
              "      quickchartButtonEl.classList.add('colab-df-quickchart-complete');\n",
              "    }\n",
              "    (() => {\n",
              "      let quickchartButtonEl =\n",
              "        document.querySelector('#df-66c6a7cb-ff41-4a96-9c14-81fdb397e93f button');\n",
              "      quickchartButtonEl.style.display =\n",
              "        google.colab.kernel.accessAllowed ? 'block' : 'none';\n",
              "    })();\n",
              "  </script>\n",
              "</div>\n",
              "\n",
              "    </div>\n",
              "  </div>\n"
            ],
            "application/vnd.google.colaboratory.intrinsic+json": {
              "type": "dataframe",
              "variable_name": "data",
              "summary": "{\n  \"name\": \"data\",\n  \"rows\": 62,\n  \"fields\": [\n    {\n      \"column\": \"Timestamp\",\n      \"properties\": {\n        \"dtype\": \"date\",\n        \"min\": \"2025-01-28 20:42:02.825000\",\n        \"max\": \"2025-01-30 15:07:23.622000\",\n        \"num_unique_values\": 62,\n        \"samples\": [\n          \"2025-01-30 12:50:55.693000\",\n          \"2025-01-30 13:47:47.522000\",\n          \"2025-01-29 00:26:24.370000\"\n        ],\n        \"semantic_type\": \"\",\n        \"description\": \"\"\n      }\n    },\n    {\n      \"column\": \"Full name\",\n      \"properties\": {\n        \"dtype\": \"string\",\n        \"num_unique_values\": 62,\n        \"samples\": [\n          \"Lais Russi Caputo\",\n          \"Lucas Furtado Aguiar\",\n          \"Gaio Santos\"\n        ],\n        \"semantic_type\": \"\",\n        \"description\": \"\"\n      }\n    },\n    {\n      \"column\": \"Student Number\",\n      \"properties\": {\n        \"dtype\": \"number\",\n        \"std\": 1094611,\n        \"min\": 1007303017,\n        \"max\": 1011767223,\n        \"num_unique_values\": 62,\n        \"samples\": [\n          1011003361,\n          1010905825,\n          1008948123\n        ],\n        \"semantic_type\": \"\",\n        \"description\": \"\"\n      }\n    },\n    {\n      \"column\": \"Undergrad or grad student?\",\n      \"properties\": {\n        \"dtype\": \"category\",\n        \"num_unique_values\": 2,\n        \"samples\": [\n          \"Grad Student\",\n          \"Undergrad\"\n        ],\n        \"semantic_type\": \"\",\n        \"description\": \"\"\n      }\n    },\n    {\n      \"column\": \"Faculty\",\n      \"properties\": {\n        \"dtype\": \"category\",\n        \"num_unique_values\": 3,\n        \"samples\": [\n          \"Engineering\",\n          \"Arts & Sciences\"\n        ],\n        \"semantic_type\": \"\",\n        \"description\": \"\"\n      }\n    },\n    {\n      \"column\": \"Year of study\",\n      \"properties\": {\n        \"dtype\": \"category\",\n        \"num_unique_values\": 5,\n        \"samples\": [\n          \"1st year\",\n          \"4th year\"\n        ],\n        \"semantic_type\": \"\",\n        \"description\": \"\"\n      }\n    },\n    {\n      \"column\": \"Campus\",\n      \"properties\": {\n        \"dtype\": \"category\",\n        \"num_unique_values\": 3,\n        \"samples\": [\n          \"UTSG\",\n          \"UTSC\"\n        ],\n        \"semantic_type\": \"\",\n        \"description\": \"\"\n      }\n    },\n    {\n      \"column\": \"UofT email\",\n      \"properties\": {\n        \"dtype\": \"string\",\n        \"num_unique_values\": 62,\n        \"samples\": [\n          \"lais.caputo@mail.utoronto.ca\",\n          \"lucas.aguiar@mail.utoronto.ca\"\n        ],\n        \"semantic_type\": \"\",\n        \"description\": \"\"\n      }\n    }\n  ]\n}"
            }
          },
          "metadata": {},
          "execution_count": 11
        }
      ]
    },
    {
      "cell_type": "code",
      "source": [
        "print(data.columns)"
      ],
      "metadata": {
        "colab": {
          "base_uri": "https://localhost:8080/"
        },
        "id": "qQvVyalIS1gK",
        "outputId": "29f9b6bf-d6fa-421c-e5ee-5ef7b6cb58a0"
      },
      "execution_count": 12,
      "outputs": [
        {
          "output_type": "stream",
          "name": "stdout",
          "text": [
            "Index(['Timestamp', 'Full name', 'Student Number',\n",
            "       'Undergrad or grad student?', 'Faculty', 'Year of study', 'Campus',\n",
            "       'UofT email'],\n",
            "      dtype='object')\n"
          ]
        }
      ]
    },
    {
      "cell_type": "code",
      "source": [
        "import matplotlib.pyplot as plt\n",
        "import numpy as np"
      ],
      "metadata": {
        "id": "0sA44Px6VBpz"
      },
      "execution_count": 13,
      "outputs": []
    },
    {
      "cell_type": "code",
      "source": [
        "# undergraduate vs graduate data\n",
        "undergrads = data[data[\"Undergrad or grad student?\"] == \"Undergrad\"]\n",
        "grads = data[data[\"Undergrad or grad student?\"] == \"Grad Student\"]\n",
        "grad_distribution = [len(undergrads), len(grads)]"
      ],
      "metadata": {
        "id": "GiAnJyFz6LD5"
      },
      "execution_count": 25,
      "outputs": []
    },
    {
      "cell_type": "code",
      "source": [
        "# grad vs undergrad\n",
        "pos = [0, 1]\n",
        "\n",
        "plt.bar(pos, grad_distribution, align='center')\n",
        "plt.xticks = (pos,['undergrads', 'grads'])\n",
        "plt.title('Number of Undergrads and Grads in BRASA')\n",
        "plt.ylabel(\"Number\")\n",
        "plt.show()\n"
      ],
      "metadata": {
        "colab": {
          "base_uri": "https://localhost:8080/",
          "height": 452
        },
        "id": "rIiQey_R5rB8",
        "outputId": "edda73c3-63fb-4c2d-a2c6-2457a1019f5d"
      },
      "execution_count": 27,
      "outputs": [
        {
          "output_type": "display_data",
          "data": {
            "text/plain": [
              "<Figure size 640x480 with 1 Axes>"
            ],
            "image/png": "[encoded data removed]"
          },
          "metadata": {}
        }
      ]
    },
    {
      "cell_type": "code",
      "source": [
        "# Pie chart for majors\n"
      ],
      "metadata": {
        "id": "MNYMA9idVtFC"
      },
      "execution_count": null,
      "outputs": []
    }
  ]
}